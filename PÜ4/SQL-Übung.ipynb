{
  "cells": [
    {
      "cell_type": "markdown",
      "metadata": {
        "id": "32gypts6tYAf"
      },
      "source": [
        "# SQL\n",
        "\n",
        "## Vorbereitung des Notebooks\n",
        "\n",
        "Hier nichts verändern."
      ]
    },
    {
      "cell_type": "code",
      "execution_count": 4,
      "metadata": {
        "colab": {
          "base_uri": "https://localhost:8080/"
        },
        "id": "UEtwkNNghr7J",
        "outputId": "8890d520-f1e2-4fef-9619-d0c73c26150c"
      },
      "outputs": [
        {
          "name": "stdout",
          "output_type": "stream",
          "text": [
            "Requirement already satisfied: pandasql in c:\\users\\xaver\\appdata\\local\\packages\\pythonsoftwarefoundation.python.3.10_qbz5n2kfra8p0\\localcache\\local-packages\\python310\\site-packages (0.7.3)\n",
            "Requirement already satisfied: numpy in c:\\users\\xaver\\appdata\\local\\packages\\pythonsoftwarefoundation.python.3.10_qbz5n2kfra8p0\\localcache\\local-packages\\python310\\site-packages (from pandasql) (1.22.3)\n",
            "Requirement already satisfied: pandas in c:\\users\\xaver\\appdata\\local\\packages\\pythonsoftwarefoundation.python.3.10_qbz5n2kfra8p0\\localcache\\local-packages\\python310\\site-packages (from pandasql) (1.4.2)\n",
            "Requirement already satisfied: sqlalchemy in c:\\users\\xaver\\appdata\\local\\packages\\pythonsoftwarefoundation.python.3.10_qbz5n2kfra8p0\\localcache\\local-packages\\python310\\site-packages (from pandasql) (1.4.34)\n",
            "Requirement already satisfied: python-dateutil>=2.8.1 in c:\\users\\xaver\\appdata\\local\\packages\\pythonsoftwarefoundation.python.3.10_qbz5n2kfra8p0\\localcache\\local-packages\\python310\\site-packages (from pandas->pandasql) (2.8.2)\n",
            "Requirement already satisfied: pytz>=2020.1 in c:\\users\\xaver\\appdata\\local\\packages\\pythonsoftwarefoundation.python.3.10_qbz5n2kfra8p0\\localcache\\local-packages\\python310\\site-packages (from pandas->pandasql) (2022.1)\n",
            "Requirement already satisfied: greenlet!=0.4.17 in c:\\users\\xaver\\appdata\\local\\packages\\pythonsoftwarefoundation.python.3.10_qbz5n2kfra8p0\\localcache\\local-packages\\python310\\site-packages (from sqlalchemy->pandasql) (1.1.2)\n",
            "Requirement already satisfied: six>=1.5 in c:\\users\\xaver\\appdata\\local\\packages\\pythonsoftwarefoundation.python.3.10_qbz5n2kfra8p0\\localcache\\local-packages\\python310\\site-packages (from python-dateutil>=2.8.1->pandas->pandasql) (1.16.0)\n"
          ]
        }
      ],
      "source": [
        "# Installiert Paket, damit man SQL-Befehle auf Dataframes anwenden kann\n",
        "!pip install pandasql\n",
        "\n",
        "# Lädt Paket, damit man Dataframes (Tabellen in Python) anwenden kann\n",
        "import pandas as pd\n",
        "# Lädt Paket, damit man SQL-Befehle auf Dataframes anwenden kann\n",
        "import pandasql as ps"
      ]
    },
    {
      "cell_type": "markdown",
      "metadata": {
        "id": "CVS7brUXuJyu"
      },
      "source": [
        "## Datenbeschreibung\n",
        "\n",
        "Performance_data ist ein Datensatz über vorangegangene Leistungstests ([VO2_max](https://de.wikipedia.org/wiki/Maximale_Sauerstoffaufnahme)). Zudem enthält es Informationen über das Geschlecht und Alter der Untersuchten, ob diese rauchen oder nicht, deren Körpergröße und Gewicht, sowie die die Diagnostiker:in, die den Test durchgeführt hat. Zudem wird der Erlös erhoben, der bei der Krankenkasse für die Diagnostik verrechnet wurde.\n",
        "\n",
        "### Aufgabe\n",
        "\n",
        "Laden die die Daten in einen pandas DataFrame und zeigen Sie diese an. (Hinweis: wir nutzen hier die Möglichkeit mit SQL-Befehlen direkt auf einem Pandas DataFrame in Arbeitsspeicher des PCs zu arbeiten. Hierdurch sparen wir uns das Aufsetzen einer echten Datenbank.)"
      ]
    },
    {
      "cell_type": "code",
      "execution_count": 5,
      "metadata": {
        "colab": {
          "base_uri": "https://localhost:8080/",
          "height": 423
        },
        "id": "-rLAcnlTiAMR",
        "outputId": "080884aa-cfe8-4167-f55d-9ab743ed97be"
      },
      "outputs": [
        {
          "data": {
            "text/html": [
              "<div>\n",
              "<style scoped>\n",
              "    .dataframe tbody tr th:only-of-type {\n",
              "        vertical-align: middle;\n",
              "    }\n",
              "\n",
              "    .dataframe tbody tr th {\n",
              "        vertical-align: top;\n",
              "    }\n",
              "\n",
              "    .dataframe thead th {\n",
              "        text-align: right;\n",
              "    }\n",
              "</style>\n",
              "<table border=\"1\" class=\"dataframe\">\n",
              "  <thead>\n",
              "    <tr style=\"text-align: right;\">\n",
              "      <th></th>\n",
              "      <th>Unnamed: 0</th>\n",
              "      <th>VO2_max</th>\n",
              "      <th>age</th>\n",
              "      <th>smoker</th>\n",
              "      <th>height</th>\n",
              "      <th>weight</th>\n",
              "      <th>revenue</th>\n",
              "      <th>diagnostician_id</th>\n",
              "      <th>gender</th>\n",
              "    </tr>\n",
              "  </thead>\n",
              "  <tbody>\n",
              "    <tr>\n",
              "      <th>0</th>\n",
              "      <td>0</td>\n",
              "      <td>45</td>\n",
              "      <td>66</td>\n",
              "      <td>True</td>\n",
              "      <td>165</td>\n",
              "      <td>76</td>\n",
              "      <td>30</td>\n",
              "      <td>2</td>\n",
              "      <td>Male</td>\n",
              "    </tr>\n",
              "    <tr>\n",
              "      <th>1</th>\n",
              "      <td>1</td>\n",
              "      <td>37</td>\n",
              "      <td>58</td>\n",
              "      <td>False</td>\n",
              "      <td>180</td>\n",
              "      <td>87</td>\n",
              "      <td>32</td>\n",
              "      <td>1</td>\n",
              "      <td>Female</td>\n",
              "    </tr>\n",
              "    <tr>\n",
              "      <th>2</th>\n",
              "      <td>2</td>\n",
              "      <td>54</td>\n",
              "      <td>27</td>\n",
              "      <td>False</td>\n",
              "      <td>155</td>\n",
              "      <td>62</td>\n",
              "      <td>29</td>\n",
              "      <td>0</td>\n",
              "      <td>Male</td>\n",
              "    </tr>\n",
              "    <tr>\n",
              "      <th>3</th>\n",
              "      <td>3</td>\n",
              "      <td>58</td>\n",
              "      <td>32</td>\n",
              "      <td>False</td>\n",
              "      <td>183</td>\n",
              "      <td>78</td>\n",
              "      <td>26</td>\n",
              "      <td>0</td>\n",
              "      <td>Male</td>\n",
              "    </tr>\n",
              "    <tr>\n",
              "      <th>4</th>\n",
              "      <td>4</td>\n",
              "      <td>45</td>\n",
              "      <td>75</td>\n",
              "      <td>True</td>\n",
              "      <td>166</td>\n",
              "      <td>101</td>\n",
              "      <td>10</td>\n",
              "      <td>2</td>\n",
              "      <td>Female</td>\n",
              "    </tr>\n",
              "    <tr>\n",
              "      <th>...</th>\n",
              "      <td>...</td>\n",
              "      <td>...</td>\n",
              "      <td>...</td>\n",
              "      <td>...</td>\n",
              "      <td>...</td>\n",
              "      <td>...</td>\n",
              "      <td>...</td>\n",
              "      <td>...</td>\n",
              "      <td>...</td>\n",
              "    </tr>\n",
              "    <tr>\n",
              "      <th>195</th>\n",
              "      <td>195</td>\n",
              "      <td>55</td>\n",
              "      <td>24</td>\n",
              "      <td>True</td>\n",
              "      <td>160</td>\n",
              "      <td>74</td>\n",
              "      <td>11</td>\n",
              "      <td>3</td>\n",
              "      <td>Male</td>\n",
              "    </tr>\n",
              "    <tr>\n",
              "      <th>196</th>\n",
              "      <td>196</td>\n",
              "      <td>46</td>\n",
              "      <td>17</td>\n",
              "      <td>False</td>\n",
              "      <td>172</td>\n",
              "      <td>92</td>\n",
              "      <td>18</td>\n",
              "      <td>3</td>\n",
              "      <td>Male</td>\n",
              "    </tr>\n",
              "    <tr>\n",
              "      <th>197</th>\n",
              "      <td>197</td>\n",
              "      <td>61</td>\n",
              "      <td>52</td>\n",
              "      <td>False</td>\n",
              "      <td>164</td>\n",
              "      <td>84</td>\n",
              "      <td>29</td>\n",
              "      <td>0</td>\n",
              "      <td>Female</td>\n",
              "    </tr>\n",
              "    <tr>\n",
              "      <th>198</th>\n",
              "      <td>198</td>\n",
              "      <td>67</td>\n",
              "      <td>46</td>\n",
              "      <td>True</td>\n",
              "      <td>164</td>\n",
              "      <td>78</td>\n",
              "      <td>39</td>\n",
              "      <td>1</td>\n",
              "      <td>Male</td>\n",
              "    </tr>\n",
              "    <tr>\n",
              "      <th>199</th>\n",
              "      <td>199</td>\n",
              "      <td>43</td>\n",
              "      <td>39</td>\n",
              "      <td>False</td>\n",
              "      <td>162</td>\n",
              "      <td>107</td>\n",
              "      <td>36</td>\n",
              "      <td>1</td>\n",
              "      <td>Male</td>\n",
              "    </tr>\n",
              "  </tbody>\n",
              "</table>\n",
              "<p>200 rows × 9 columns</p>\n",
              "</div>"
            ],
            "text/plain": [
              "     Unnamed: 0  VO2_max  age  smoker  height  weight  revenue  \\\n",
              "0             0       45   66    True     165      76       30   \n",
              "1             1       37   58   False     180      87       32   \n",
              "2             2       54   27   False     155      62       29   \n",
              "3             3       58   32   False     183      78       26   \n",
              "4             4       45   75    True     166     101       10   \n",
              "..          ...      ...  ...     ...     ...     ...      ...   \n",
              "195         195       55   24    True     160      74       11   \n",
              "196         196       46   17   False     172      92       18   \n",
              "197         197       61   52   False     164      84       29   \n",
              "198         198       67   46    True     164      78       39   \n",
              "199         199       43   39   False     162     107       36   \n",
              "\n",
              "     diagnostician_id  gender  \n",
              "0                   2    Male  \n",
              "1                   1  Female  \n",
              "2                   0    Male  \n",
              "3                   0    Male  \n",
              "4                   2  Female  \n",
              "..                ...     ...  \n",
              "195                 3    Male  \n",
              "196                 3    Male  \n",
              "197                 0  Female  \n",
              "198                 1    Male  \n",
              "199                 1    Male  \n",
              "\n",
              "[200 rows x 9 columns]"
            ]
          },
          "execution_count": 5,
          "metadata": {},
          "output_type": "execute_result"
        }
      ],
      "source": [
        "# Lösung\n",
        "# Lade die Daten in einen pandas Dataframe namens \"performance_data\"\n",
        "performance_data = pd.read_csv(\"test_data.csv\")\n",
        "\n",
        "# Zeige performance_data an\n",
        "performance_data\n"
      ]
    },
    {
      "cell_type": "markdown",
      "metadata": {
        "id": "2pSSJT64ueEc"
      },
      "source": [
        "## SQL-Befehle\n",
        "\n",
        "```ps.sqldf()``` Ist eine Funktion die es erlaubt SQL-Befehle statt auf Daten auf pandas Dataframes auszuführen. Der Funktion wird der eigentliche SQL-Befehl als Sting übergeben:\n",
        "\n",
        "```\"SELECT * FROM performance_data\"```\n",
        "\n",
        "SELECT und FROM sind Schlüsselwörter der SQL-Sprache und werden deswegen großgeschrieben. ```performance_data``` ist der Name der Tabelle/Relation von der wir abfragen wollen. das ```*``` ist eine sogenannte Wildcard und bedeuted, dass wir alle Attribute der Tabelle ausgeben wollen:\n",
        "\n",
        "\n",
        "```ps.sqldf(\"SELECT * FROM performance_data\") # Gibt die gesamte Tabelle performance_data aus```\n",
        "\n",
        "\n",
        "[Hier](https://www.dataquest.io/blog/sql-basics/) findet sich eine ausfühliche Erklärung dieser und weiterer SQL-Befehle."
      ]
    },
    {
      "cell_type": "code",
      "execution_count": 6,
      "metadata": {
        "colab": {
          "base_uri": "https://localhost:8080/",
          "height": 423
        },
        "id": "gCITpQS3iaac",
        "outputId": "c334039c-ef00-44e1-92a0-b36839b4500a"
      },
      "outputs": [
        {
          "data": {
            "text/html": [
              "<div>\n",
              "<style scoped>\n",
              "    .dataframe tbody tr th:only-of-type {\n",
              "        vertical-align: middle;\n",
              "    }\n",
              "\n",
              "    .dataframe tbody tr th {\n",
              "        vertical-align: top;\n",
              "    }\n",
              "\n",
              "    .dataframe thead th {\n",
              "        text-align: right;\n",
              "    }\n",
              "</style>\n",
              "<table border=\"1\" class=\"dataframe\">\n",
              "  <thead>\n",
              "    <tr style=\"text-align: right;\">\n",
              "      <th></th>\n",
              "      <th>Unnamed: 0</th>\n",
              "      <th>VO2_max</th>\n",
              "      <th>age</th>\n",
              "      <th>smoker</th>\n",
              "      <th>height</th>\n",
              "      <th>weight</th>\n",
              "      <th>revenue</th>\n",
              "      <th>diagnostician_id</th>\n",
              "      <th>gender</th>\n",
              "    </tr>\n",
              "  </thead>\n",
              "  <tbody>\n",
              "    <tr>\n",
              "      <th>0</th>\n",
              "      <td>0</td>\n",
              "      <td>45</td>\n",
              "      <td>66</td>\n",
              "      <td>1</td>\n",
              "      <td>165</td>\n",
              "      <td>76</td>\n",
              "      <td>30</td>\n",
              "      <td>2</td>\n",
              "      <td>Male</td>\n",
              "    </tr>\n",
              "    <tr>\n",
              "      <th>1</th>\n",
              "      <td>1</td>\n",
              "      <td>37</td>\n",
              "      <td>58</td>\n",
              "      <td>0</td>\n",
              "      <td>180</td>\n",
              "      <td>87</td>\n",
              "      <td>32</td>\n",
              "      <td>1</td>\n",
              "      <td>Female</td>\n",
              "    </tr>\n",
              "    <tr>\n",
              "      <th>2</th>\n",
              "      <td>2</td>\n",
              "      <td>54</td>\n",
              "      <td>27</td>\n",
              "      <td>0</td>\n",
              "      <td>155</td>\n",
              "      <td>62</td>\n",
              "      <td>29</td>\n",
              "      <td>0</td>\n",
              "      <td>Male</td>\n",
              "    </tr>\n",
              "    <tr>\n",
              "      <th>3</th>\n",
              "      <td>3</td>\n",
              "      <td>58</td>\n",
              "      <td>32</td>\n",
              "      <td>0</td>\n",
              "      <td>183</td>\n",
              "      <td>78</td>\n",
              "      <td>26</td>\n",
              "      <td>0</td>\n",
              "      <td>Male</td>\n",
              "    </tr>\n",
              "    <tr>\n",
              "      <th>4</th>\n",
              "      <td>4</td>\n",
              "      <td>45</td>\n",
              "      <td>75</td>\n",
              "      <td>1</td>\n",
              "      <td>166</td>\n",
              "      <td>101</td>\n",
              "      <td>10</td>\n",
              "      <td>2</td>\n",
              "      <td>Female</td>\n",
              "    </tr>\n",
              "    <tr>\n",
              "      <th>...</th>\n",
              "      <td>...</td>\n",
              "      <td>...</td>\n",
              "      <td>...</td>\n",
              "      <td>...</td>\n",
              "      <td>...</td>\n",
              "      <td>...</td>\n",
              "      <td>...</td>\n",
              "      <td>...</td>\n",
              "      <td>...</td>\n",
              "    </tr>\n",
              "    <tr>\n",
              "      <th>195</th>\n",
              "      <td>195</td>\n",
              "      <td>55</td>\n",
              "      <td>24</td>\n",
              "      <td>1</td>\n",
              "      <td>160</td>\n",
              "      <td>74</td>\n",
              "      <td>11</td>\n",
              "      <td>3</td>\n",
              "      <td>Male</td>\n",
              "    </tr>\n",
              "    <tr>\n",
              "      <th>196</th>\n",
              "      <td>196</td>\n",
              "      <td>46</td>\n",
              "      <td>17</td>\n",
              "      <td>0</td>\n",
              "      <td>172</td>\n",
              "      <td>92</td>\n",
              "      <td>18</td>\n",
              "      <td>3</td>\n",
              "      <td>Male</td>\n",
              "    </tr>\n",
              "    <tr>\n",
              "      <th>197</th>\n",
              "      <td>197</td>\n",
              "      <td>61</td>\n",
              "      <td>52</td>\n",
              "      <td>0</td>\n",
              "      <td>164</td>\n",
              "      <td>84</td>\n",
              "      <td>29</td>\n",
              "      <td>0</td>\n",
              "      <td>Female</td>\n",
              "    </tr>\n",
              "    <tr>\n",
              "      <th>198</th>\n",
              "      <td>198</td>\n",
              "      <td>67</td>\n",
              "      <td>46</td>\n",
              "      <td>1</td>\n",
              "      <td>164</td>\n",
              "      <td>78</td>\n",
              "      <td>39</td>\n",
              "      <td>1</td>\n",
              "      <td>Male</td>\n",
              "    </tr>\n",
              "    <tr>\n",
              "      <th>199</th>\n",
              "      <td>199</td>\n",
              "      <td>43</td>\n",
              "      <td>39</td>\n",
              "      <td>0</td>\n",
              "      <td>162</td>\n",
              "      <td>107</td>\n",
              "      <td>36</td>\n",
              "      <td>1</td>\n",
              "      <td>Male</td>\n",
              "    </tr>\n",
              "  </tbody>\n",
              "</table>\n",
              "<p>200 rows × 9 columns</p>\n",
              "</div>"
            ],
            "text/plain": [
              "     Unnamed: 0  VO2_max  age  smoker  height  weight  revenue  \\\n",
              "0             0       45   66       1     165      76       30   \n",
              "1             1       37   58       0     180      87       32   \n",
              "2             2       54   27       0     155      62       29   \n",
              "3             3       58   32       0     183      78       26   \n",
              "4             4       45   75       1     166     101       10   \n",
              "..          ...      ...  ...     ...     ...     ...      ...   \n",
              "195         195       55   24       1     160      74       11   \n",
              "196         196       46   17       0     172      92       18   \n",
              "197         197       61   52       0     164      84       29   \n",
              "198         198       67   46       1     164      78       39   \n",
              "199         199       43   39       0     162     107       36   \n",
              "\n",
              "     diagnostician_id  gender  \n",
              "0                   2    Male  \n",
              "1                   1  Female  \n",
              "2                   0    Male  \n",
              "3                   0    Male  \n",
              "4                   2  Female  \n",
              "..                ...     ...  \n",
              "195                 3    Male  \n",
              "196                 3    Male  \n",
              "197                 0  Female  \n",
              "198                 1    Male  \n",
              "199                 1    Male  \n",
              "\n",
              "[200 rows x 9 columns]"
            ]
          },
          "execution_count": 6,
          "metadata": {},
          "output_type": "execute_result"
        }
      ],
      "source": [
        "ps.sqldf(\"SELECT * FROM performance_data\") # Gibt die gesamte Tabelle performance_data aus"
      ]
    },
    {
      "cell_type": "markdown",
      "metadata": {
        "id": "tRQi_qkxwB8U"
      },
      "source": [
        "## Projektion\n",
        "\n",
        "Durch eine Projektion werden einzelne Attribute aus einer Tabelle abgefragt. Hierzu werden die Attribute hinter der SELECT genannt und mit einen Komma voneinander abgetrennt.\n",
        "\n",
        "```ps.sqldf(\"SELECT gender FROM performance_data\") # Gibt sex aus```\n",
        "\n",
        "\n",
        "```ps.sqldf(\"SELECT gender, age FROM performance_data\") # Gibt gender und age aus```"
      ]
    },
    {
      "cell_type": "code",
      "execution_count": 7,
      "metadata": {
        "colab": {
          "base_uri": "https://localhost:8080/",
          "height": 423
        },
        "id": "eNLXG7xriBRt",
        "outputId": "9f085598-11ff-472f-c251-d2c7f4915283"
      },
      "outputs": [
        {
          "data": {
            "text/html": [
              "<div>\n",
              "<style scoped>\n",
              "    .dataframe tbody tr th:only-of-type {\n",
              "        vertical-align: middle;\n",
              "    }\n",
              "\n",
              "    .dataframe tbody tr th {\n",
              "        vertical-align: top;\n",
              "    }\n",
              "\n",
              "    .dataframe thead th {\n",
              "        text-align: right;\n",
              "    }\n",
              "</style>\n",
              "<table border=\"1\" class=\"dataframe\">\n",
              "  <thead>\n",
              "    <tr style=\"text-align: right;\">\n",
              "      <th></th>\n",
              "      <th>gender</th>\n",
              "    </tr>\n",
              "  </thead>\n",
              "  <tbody>\n",
              "    <tr>\n",
              "      <th>0</th>\n",
              "      <td>Male</td>\n",
              "    </tr>\n",
              "    <tr>\n",
              "      <th>1</th>\n",
              "      <td>Female</td>\n",
              "    </tr>\n",
              "    <tr>\n",
              "      <th>2</th>\n",
              "      <td>Male</td>\n",
              "    </tr>\n",
              "    <tr>\n",
              "      <th>3</th>\n",
              "      <td>Male</td>\n",
              "    </tr>\n",
              "    <tr>\n",
              "      <th>4</th>\n",
              "      <td>Female</td>\n",
              "    </tr>\n",
              "    <tr>\n",
              "      <th>...</th>\n",
              "      <td>...</td>\n",
              "    </tr>\n",
              "    <tr>\n",
              "      <th>195</th>\n",
              "      <td>Male</td>\n",
              "    </tr>\n",
              "    <tr>\n",
              "      <th>196</th>\n",
              "      <td>Male</td>\n",
              "    </tr>\n",
              "    <tr>\n",
              "      <th>197</th>\n",
              "      <td>Female</td>\n",
              "    </tr>\n",
              "    <tr>\n",
              "      <th>198</th>\n",
              "      <td>Male</td>\n",
              "    </tr>\n",
              "    <tr>\n",
              "      <th>199</th>\n",
              "      <td>Male</td>\n",
              "    </tr>\n",
              "  </tbody>\n",
              "</table>\n",
              "<p>200 rows × 1 columns</p>\n",
              "</div>"
            ],
            "text/plain": [
              "     gender\n",
              "0      Male\n",
              "1    Female\n",
              "2      Male\n",
              "3      Male\n",
              "4    Female\n",
              "..      ...\n",
              "195    Male\n",
              "196    Male\n",
              "197  Female\n",
              "198    Male\n",
              "199    Male\n",
              "\n",
              "[200 rows x 1 columns]"
            ]
          },
          "execution_count": 7,
          "metadata": {},
          "output_type": "execute_result"
        }
      ],
      "source": [
        "# Beispiel\n",
        "ps.sqldf(\"SELECT gender FROM performance_data\") # Gibt sex aus"
      ]
    },
    {
      "cell_type": "code",
      "execution_count": 8,
      "metadata": {
        "colab": {
          "base_uri": "https://localhost:8080/",
          "height": 423
        },
        "id": "IbeZTgogiuxc",
        "outputId": "42fb94e4-e482-40ee-8b82-6aa10057273d"
      },
      "outputs": [
        {
          "data": {
            "text/html": [
              "<div>\n",
              "<style scoped>\n",
              "    .dataframe tbody tr th:only-of-type {\n",
              "        vertical-align: middle;\n",
              "    }\n",
              "\n",
              "    .dataframe tbody tr th {\n",
              "        vertical-align: top;\n",
              "    }\n",
              "\n",
              "    .dataframe thead th {\n",
              "        text-align: right;\n",
              "    }\n",
              "</style>\n",
              "<table border=\"1\" class=\"dataframe\">\n",
              "  <thead>\n",
              "    <tr style=\"text-align: right;\">\n",
              "      <th></th>\n",
              "      <th>gender</th>\n",
              "      <th>age</th>\n",
              "    </tr>\n",
              "  </thead>\n",
              "  <tbody>\n",
              "    <tr>\n",
              "      <th>0</th>\n",
              "      <td>Male</td>\n",
              "      <td>66</td>\n",
              "    </tr>\n",
              "    <tr>\n",
              "      <th>1</th>\n",
              "      <td>Female</td>\n",
              "      <td>58</td>\n",
              "    </tr>\n",
              "    <tr>\n",
              "      <th>2</th>\n",
              "      <td>Male</td>\n",
              "      <td>27</td>\n",
              "    </tr>\n",
              "    <tr>\n",
              "      <th>3</th>\n",
              "      <td>Male</td>\n",
              "      <td>32</td>\n",
              "    </tr>\n",
              "    <tr>\n",
              "      <th>4</th>\n",
              "      <td>Female</td>\n",
              "      <td>75</td>\n",
              "    </tr>\n",
              "    <tr>\n",
              "      <th>...</th>\n",
              "      <td>...</td>\n",
              "      <td>...</td>\n",
              "    </tr>\n",
              "    <tr>\n",
              "      <th>195</th>\n",
              "      <td>Male</td>\n",
              "      <td>24</td>\n",
              "    </tr>\n",
              "    <tr>\n",
              "      <th>196</th>\n",
              "      <td>Male</td>\n",
              "      <td>17</td>\n",
              "    </tr>\n",
              "    <tr>\n",
              "      <th>197</th>\n",
              "      <td>Female</td>\n",
              "      <td>52</td>\n",
              "    </tr>\n",
              "    <tr>\n",
              "      <th>198</th>\n",
              "      <td>Male</td>\n",
              "      <td>46</td>\n",
              "    </tr>\n",
              "    <tr>\n",
              "      <th>199</th>\n",
              "      <td>Male</td>\n",
              "      <td>39</td>\n",
              "    </tr>\n",
              "  </tbody>\n",
              "</table>\n",
              "<p>200 rows × 2 columns</p>\n",
              "</div>"
            ],
            "text/plain": [
              "     gender  age\n",
              "0      Male   66\n",
              "1    Female   58\n",
              "2      Male   27\n",
              "3      Male   32\n",
              "4    Female   75\n",
              "..      ...  ...\n",
              "195    Male   24\n",
              "196    Male   17\n",
              "197  Female   52\n",
              "198    Male   46\n",
              "199    Male   39\n",
              "\n",
              "[200 rows x 2 columns]"
            ]
          },
          "execution_count": 8,
          "metadata": {},
          "output_type": "execute_result"
        }
      ],
      "source": [
        "# Beispiel\n",
        "ps.sqldf(\"SELECT gender, age FROM performance_data\") # Gibt gender und age aus"
      ]
    },
    {
      "cell_type": "markdown",
      "metadata": {
        "id": "OphtRITayIHv"
      },
      "source": [
        "## Selektion\n",
        "\n",
        "Auswahl einer Untermenge aller Tupel einer Tabelle.\n",
        "Die Selektion wird durch zusätzliche Schlüsselwörter hinter der Auswahl der Tabelle (FROM performance_data) angefügt.\n",
        "\n",
        "Beispielsweise lässt sich die Ausgabe auf fünf Einträge begrenzen:\n",
        "\n",
        "```ps.sqldf(\"SELECT gender, age FROM performance_data LIMIT 5\")```\n"
      ]
    },
    {
      "cell_type": "code",
      "execution_count": 9,
      "metadata": {
        "colab": {
          "base_uri": "https://localhost:8080/",
          "height": 206
        },
        "id": "aMxB3Y64i-T6",
        "outputId": "88200d01-8441-4303-8a81-67c873b6331f"
      },
      "outputs": [
        {
          "data": {
            "text/html": [
              "<div>\n",
              "<style scoped>\n",
              "    .dataframe tbody tr th:only-of-type {\n",
              "        vertical-align: middle;\n",
              "    }\n",
              "\n",
              "    .dataframe tbody tr th {\n",
              "        vertical-align: top;\n",
              "    }\n",
              "\n",
              "    .dataframe thead th {\n",
              "        text-align: right;\n",
              "    }\n",
              "</style>\n",
              "<table border=\"1\" class=\"dataframe\">\n",
              "  <thead>\n",
              "    <tr style=\"text-align: right;\">\n",
              "      <th></th>\n",
              "      <th>gender</th>\n",
              "      <th>age</th>\n",
              "    </tr>\n",
              "  </thead>\n",
              "  <tbody>\n",
              "    <tr>\n",
              "      <th>0</th>\n",
              "      <td>Male</td>\n",
              "      <td>66</td>\n",
              "    </tr>\n",
              "    <tr>\n",
              "      <th>1</th>\n",
              "      <td>Female</td>\n",
              "      <td>58</td>\n",
              "    </tr>\n",
              "    <tr>\n",
              "      <th>2</th>\n",
              "      <td>Male</td>\n",
              "      <td>27</td>\n",
              "    </tr>\n",
              "    <tr>\n",
              "      <th>3</th>\n",
              "      <td>Male</td>\n",
              "      <td>32</td>\n",
              "    </tr>\n",
              "    <tr>\n",
              "      <th>4</th>\n",
              "      <td>Female</td>\n",
              "      <td>75</td>\n",
              "    </tr>\n",
              "  </tbody>\n",
              "</table>\n",
              "</div>"
            ],
            "text/plain": [
              "   gender  age\n",
              "0    Male   66\n",
              "1  Female   58\n",
              "2    Male   27\n",
              "3    Male   32\n",
              "4  Female   75"
            ]
          },
          "execution_count": 9,
          "metadata": {},
          "output_type": "execute_result"
        }
      ],
      "source": [
        "# Beispiel\n",
        "ps.sqldf(\"SELECT gender, age FROM performance_data LIMIT 5\") # Gibt die ersten  Einträge aus"
      ]
    },
    {
      "cell_type": "markdown",
      "metadata": {
        "id": "ttN3fxrQzAj5"
      },
      "source": [
        "### Filtern\n",
        "\n",
        "- Eine besondere Art von Selektion ist das Filtern\n",
        "- Beim Filtern wird das Schlüsselwort ```WHERE``` genutzt. Darauf folgt eine logische Abfrage z.B. bezüglich des Attributs ```smoker``` ob dieses den Wert False enthält.\n",
        "\n",
        "```ps.sqldf(\"\"\"SELECT gender, age, smoker FROM performance_data WHERE smoker=False \"\"\")```\n",
        "\n",
        "*Vorsicht: der SQL-Befehl enthält \" um den String zu kennzeichnen. Damit Python diesen nicht mit dem Anfang und Ende der SQL-Abfrage verwechselt, wird diese jetzt mit \"\"\" (drei \") gekennzeichnet *"
      ]
    },
    {
      "cell_type": "code",
      "execution_count": 10,
      "metadata": {
        "colab": {
          "base_uri": "https://localhost:8080/",
          "height": 423
        },
        "id": "RG9nt7FKjfWk",
        "outputId": "459d3e00-a627-441b-b1d8-ab715efd8143"
      },
      "outputs": [
        {
          "data": {
            "text/html": [
              "<div>\n",
              "<style scoped>\n",
              "    .dataframe tbody tr th:only-of-type {\n",
              "        vertical-align: middle;\n",
              "    }\n",
              "\n",
              "    .dataframe tbody tr th {\n",
              "        vertical-align: top;\n",
              "    }\n",
              "\n",
              "    .dataframe thead th {\n",
              "        text-align: right;\n",
              "    }\n",
              "</style>\n",
              "<table border=\"1\" class=\"dataframe\">\n",
              "  <thead>\n",
              "    <tr style=\"text-align: right;\">\n",
              "      <th></th>\n",
              "      <th>gender</th>\n",
              "      <th>age</th>\n",
              "      <th>smoker</th>\n",
              "    </tr>\n",
              "  </thead>\n",
              "  <tbody>\n",
              "    <tr>\n",
              "      <th>0</th>\n",
              "      <td>Female</td>\n",
              "      <td>58</td>\n",
              "      <td>0</td>\n",
              "    </tr>\n",
              "    <tr>\n",
              "      <th>1</th>\n",
              "      <td>Male</td>\n",
              "      <td>27</td>\n",
              "      <td>0</td>\n",
              "    </tr>\n",
              "    <tr>\n",
              "      <th>2</th>\n",
              "      <td>Male</td>\n",
              "      <td>32</td>\n",
              "      <td>0</td>\n",
              "    </tr>\n",
              "    <tr>\n",
              "      <th>3</th>\n",
              "      <td>Female</td>\n",
              "      <td>71</td>\n",
              "      <td>0</td>\n",
              "    </tr>\n",
              "    <tr>\n",
              "      <th>4</th>\n",
              "      <td>Male</td>\n",
              "      <td>28</td>\n",
              "      <td>0</td>\n",
              "    </tr>\n",
              "    <tr>\n",
              "      <th>...</th>\n",
              "      <td>...</td>\n",
              "      <td>...</td>\n",
              "      <td>...</td>\n",
              "    </tr>\n",
              "    <tr>\n",
              "      <th>96</th>\n",
              "      <td>Female</td>\n",
              "      <td>71</td>\n",
              "      <td>0</td>\n",
              "    </tr>\n",
              "    <tr>\n",
              "      <th>97</th>\n",
              "      <td>Male</td>\n",
              "      <td>70</td>\n",
              "      <td>0</td>\n",
              "    </tr>\n",
              "    <tr>\n",
              "      <th>98</th>\n",
              "      <td>Male</td>\n",
              "      <td>17</td>\n",
              "      <td>0</td>\n",
              "    </tr>\n",
              "    <tr>\n",
              "      <th>99</th>\n",
              "      <td>Female</td>\n",
              "      <td>52</td>\n",
              "      <td>0</td>\n",
              "    </tr>\n",
              "    <tr>\n",
              "      <th>100</th>\n",
              "      <td>Male</td>\n",
              "      <td>39</td>\n",
              "      <td>0</td>\n",
              "    </tr>\n",
              "  </tbody>\n",
              "</table>\n",
              "<p>101 rows × 3 columns</p>\n",
              "</div>"
            ],
            "text/plain": [
              "     gender  age  smoker\n",
              "0    Female   58       0\n",
              "1      Male   27       0\n",
              "2      Male   32       0\n",
              "3    Female   71       0\n",
              "4      Male   28       0\n",
              "..      ...  ...     ...\n",
              "96   Female   71       0\n",
              "97     Male   70       0\n",
              "98     Male   17       0\n",
              "99   Female   52       0\n",
              "100    Male   39       0\n",
              "\n",
              "[101 rows x 3 columns]"
            ]
          },
          "execution_count": 10,
          "metadata": {},
          "output_type": "execute_result"
        }
      ],
      "source": [
        "# Beispiel\n",
        "ps.sqldf(\"\"\"SELECT gender, age, smoker FROM performance_data WHERE smoker=0 \"\"\")"
      ]
    },
    {
      "cell_type": "markdown",
      "metadata": {
        "id": "5LJ67IuaHmUb"
      },
      "source": [
        "Filter-Operationen können auch vergleichend sein (größer, kleiner, etc.) und können mit logischen Operatoren verknüpft werden:\n"
      ]
    },
    {
      "cell_type": "code",
      "execution_count": 11,
      "metadata": {
        "colab": {
          "base_uri": "https://localhost:8080/",
          "height": 174
        },
        "id": "SdzfPkdFH0ij",
        "outputId": "6c7fcbff-cd0b-4d65-ed58-b7dad92c2c22"
      },
      "outputs": [
        {
          "data": {
            "text/html": [
              "<div>\n",
              "<style scoped>\n",
              "    .dataframe tbody tr th:only-of-type {\n",
              "        vertical-align: middle;\n",
              "    }\n",
              "\n",
              "    .dataframe tbody tr th {\n",
              "        vertical-align: top;\n",
              "    }\n",
              "\n",
              "    .dataframe thead th {\n",
              "        text-align: right;\n",
              "    }\n",
              "</style>\n",
              "<table border=\"1\" class=\"dataframe\">\n",
              "  <thead>\n",
              "    <tr style=\"text-align: right;\">\n",
              "      <th></th>\n",
              "      <th>Unnamed: 0</th>\n",
              "      <th>VO2_max</th>\n",
              "      <th>age</th>\n",
              "      <th>smoker</th>\n",
              "      <th>height</th>\n",
              "      <th>weight</th>\n",
              "      <th>revenue</th>\n",
              "      <th>diagnostician_id</th>\n",
              "      <th>gender</th>\n",
              "    </tr>\n",
              "  </thead>\n",
              "  <tbody>\n",
              "    <tr>\n",
              "      <th>0</th>\n",
              "      <td>13</td>\n",
              "      <td>51</td>\n",
              "      <td>53</td>\n",
              "      <td>1</td>\n",
              "      <td>186</td>\n",
              "      <td>68</td>\n",
              "      <td>27</td>\n",
              "      <td>0</td>\n",
              "      <td>Male</td>\n",
              "    </tr>\n",
              "    <tr>\n",
              "      <th>1</th>\n",
              "      <td>135</td>\n",
              "      <td>62</td>\n",
              "      <td>28</td>\n",
              "      <td>0</td>\n",
              "      <td>188</td>\n",
              "      <td>67</td>\n",
              "      <td>39</td>\n",
              "      <td>3</td>\n",
              "      <td>Male</td>\n",
              "    </tr>\n",
              "    <tr>\n",
              "      <th>2</th>\n",
              "      <td>175</td>\n",
              "      <td>34</td>\n",
              "      <td>60</td>\n",
              "      <td>0</td>\n",
              "      <td>189</td>\n",
              "      <td>64</td>\n",
              "      <td>15</td>\n",
              "      <td>3</td>\n",
              "      <td>Female</td>\n",
              "    </tr>\n",
              "    <tr>\n",
              "      <th>3</th>\n",
              "      <td>184</td>\n",
              "      <td>39</td>\n",
              "      <td>54</td>\n",
              "      <td>0</td>\n",
              "      <td>186</td>\n",
              "      <td>67</td>\n",
              "      <td>13</td>\n",
              "      <td>2</td>\n",
              "      <td>Male</td>\n",
              "    </tr>\n",
              "  </tbody>\n",
              "</table>\n",
              "</div>"
            ],
            "text/plain": [
              "   Unnamed: 0  VO2_max  age  smoker  height  weight  revenue  \\\n",
              "0          13       51   53       1     186      68       27   \n",
              "1         135       62   28       0     188      67       39   \n",
              "2         175       34   60       0     189      64       15   \n",
              "3         184       39   54       0     186      67       13   \n",
              "\n",
              "   diagnostician_id  gender  \n",
              "0                 0    Male  \n",
              "1                 3    Male  \n",
              "2                 3  Female  \n",
              "3                 2    Male  "
            ]
          },
          "execution_count": 11,
          "metadata": {},
          "output_type": "execute_result"
        }
      ],
      "source": [
        "# Beispiel\n",
        "ps.sqldf(\"\"\"SELECT * FROM performance_data WHERE weight<70 AND  height>185\"\"\") "
      ]
    },
    {
      "cell_type": "markdown",
      "metadata": {
        "id": "uDFZL7PN1jrz"
      },
      "source": [
        "## Ausgaben verarbeiten\n",
        "\n"
      ]
    },
    {
      "cell_type": "markdown",
      "metadata": {
        "id": "vKzuey9t6rLB"
      },
      "source": [
        "### Sortieren\n",
        "\n",
        "Ausgeben können auch weiterverarbeitet werden, um beispielsweise Reports zu erstellen.\n",
        "\n",
        "Hier werden durch das Kennwort ```ASC``` die Ausgaben nach dem davor genannten Attribut ```VO2_max``` geordnet ausgegeben. \n",
        "\n",
        "```\n",
        "ps.sqldf(\"SELECT gender, VO2_max FROM performance_data ORDER BY VO2_max ASC\") \n",
        "```"
      ]
    },
    {
      "cell_type": "code",
      "execution_count": 12,
      "metadata": {
        "colab": {
          "base_uri": "https://localhost:8080/",
          "height": 423
        },
        "id": "oH17LvDRjE0L",
        "outputId": "3b35ba3f-002d-4ccc-d319-e15542f88feb"
      },
      "outputs": [
        {
          "data": {
            "text/html": [
              "<div>\n",
              "<style scoped>\n",
              "    .dataframe tbody tr th:only-of-type {\n",
              "        vertical-align: middle;\n",
              "    }\n",
              "\n",
              "    .dataframe tbody tr th {\n",
              "        vertical-align: top;\n",
              "    }\n",
              "\n",
              "    .dataframe thead th {\n",
              "        text-align: right;\n",
              "    }\n",
              "</style>\n",
              "<table border=\"1\" class=\"dataframe\">\n",
              "  <thead>\n",
              "    <tr style=\"text-align: right;\">\n",
              "      <th></th>\n",
              "      <th>gender</th>\n",
              "      <th>VO2_max</th>\n",
              "    </tr>\n",
              "  </thead>\n",
              "  <tbody>\n",
              "    <tr>\n",
              "      <th>0</th>\n",
              "      <td>Female</td>\n",
              "      <td>30</td>\n",
              "    </tr>\n",
              "    <tr>\n",
              "      <th>1</th>\n",
              "      <td>Female</td>\n",
              "      <td>30</td>\n",
              "    </tr>\n",
              "    <tr>\n",
              "      <th>2</th>\n",
              "      <td>Female</td>\n",
              "      <td>30</td>\n",
              "    </tr>\n",
              "    <tr>\n",
              "      <th>3</th>\n",
              "      <td>Male</td>\n",
              "      <td>30</td>\n",
              "    </tr>\n",
              "    <tr>\n",
              "      <th>4</th>\n",
              "      <td>Female</td>\n",
              "      <td>30</td>\n",
              "    </tr>\n",
              "    <tr>\n",
              "      <th>...</th>\n",
              "      <td>...</td>\n",
              "      <td>...</td>\n",
              "    </tr>\n",
              "    <tr>\n",
              "      <th>195</th>\n",
              "      <td>Male</td>\n",
              "      <td>69</td>\n",
              "    </tr>\n",
              "    <tr>\n",
              "      <th>196</th>\n",
              "      <td>Female</td>\n",
              "      <td>69</td>\n",
              "    </tr>\n",
              "    <tr>\n",
              "      <th>197</th>\n",
              "      <td>Male</td>\n",
              "      <td>69</td>\n",
              "    </tr>\n",
              "    <tr>\n",
              "      <th>198</th>\n",
              "      <td>Female</td>\n",
              "      <td>69</td>\n",
              "    </tr>\n",
              "    <tr>\n",
              "      <th>199</th>\n",
              "      <td>Female</td>\n",
              "      <td>69</td>\n",
              "    </tr>\n",
              "  </tbody>\n",
              "</table>\n",
              "<p>200 rows × 2 columns</p>\n",
              "</div>"
            ],
            "text/plain": [
              "     gender  VO2_max\n",
              "0    Female       30\n",
              "1    Female       30\n",
              "2    Female       30\n",
              "3      Male       30\n",
              "4    Female       30\n",
              "..      ...      ...\n",
              "195    Male       69\n",
              "196  Female       69\n",
              "197    Male       69\n",
              "198  Female       69\n",
              "199  Female       69\n",
              "\n",
              "[200 rows x 2 columns]"
            ]
          },
          "execution_count": 12,
          "metadata": {},
          "output_type": "execute_result"
        }
      ],
      "source": [
        "# Beispiel\n",
        "ps.sqldf(\"SELECT gender, VO2_max FROM performance_data ORDER BY VO2_max ASC\") "
      ]
    },
    {
      "cell_type": "markdown",
      "metadata": {
        "id": "RmOWOoA33zlX"
      },
      "source": [
        "### Aggregation\n",
        "\n",
        "Über der Schlüsselwort ```SUM``` lassen sich Summen über Attribute bilden.\n",
        "\n",
        "```\n",
        "ps.sqldf(\"\"\"SELECT SUM(revenue) FROM performance_data\"\"\") \n",
        "```\n"
      ]
    },
    {
      "cell_type": "code",
      "execution_count": 13,
      "metadata": {
        "colab": {
          "base_uri": "https://localhost:8080/",
          "height": 81
        },
        "id": "feWHQNnTjMFc",
        "outputId": "ff84e7b2-36cc-4b6b-d042-0cccc235f0ca"
      },
      "outputs": [
        {
          "data": {
            "text/html": [
              "<div>\n",
              "<style scoped>\n",
              "    .dataframe tbody tr th:only-of-type {\n",
              "        vertical-align: middle;\n",
              "    }\n",
              "\n",
              "    .dataframe tbody tr th {\n",
              "        vertical-align: top;\n",
              "    }\n",
              "\n",
              "    .dataframe thead th {\n",
              "        text-align: right;\n",
              "    }\n",
              "</style>\n",
              "<table border=\"1\" class=\"dataframe\">\n",
              "  <thead>\n",
              "    <tr style=\"text-align: right;\">\n",
              "      <th></th>\n",
              "      <th>SUM(revenue)</th>\n",
              "    </tr>\n",
              "  </thead>\n",
              "  <tbody>\n",
              "    <tr>\n",
              "      <th>0</th>\n",
              "      <td>5776</td>\n",
              "    </tr>\n",
              "  </tbody>\n",
              "</table>\n",
              "</div>"
            ],
            "text/plain": [
              "   SUM(revenue)\n",
              "0          5776"
            ]
          },
          "execution_count": 13,
          "metadata": {},
          "output_type": "execute_result"
        }
      ],
      "source": [
        "# Beispiel\n",
        "ps.sqldf(\"\"\"SELECT SUM(revenue) FROM performance_data\"\"\") "
      ]
    },
    {
      "cell_type": "markdown",
      "metadata": {
        "id": "kXpN_L55Eotu"
      },
      "source": [
        "Es lassen sich auch Summen über mehrere Attribute erzeugen, z.B. um die Raucher und den gesamten Umsatz zu zählen:\n",
        "\n",
        "```\n",
        "ps.sqldf(\"\"\"SELECT SUM(revenue), SUM(smoker) FROM performance_data\"\"\")\n",
        "```"
      ]
    },
    {
      "cell_type": "code",
      "execution_count": 14,
      "metadata": {
        "colab": {
          "base_uri": "https://localhost:8080/",
          "height": 81
        },
        "id": "29kgByvzEjJh",
        "outputId": "d0e9941b-8f00-497d-a521-b39106810c7a"
      },
      "outputs": [
        {
          "data": {
            "text/html": [
              "<div>\n",
              "<style scoped>\n",
              "    .dataframe tbody tr th:only-of-type {\n",
              "        vertical-align: middle;\n",
              "    }\n",
              "\n",
              "    .dataframe tbody tr th {\n",
              "        vertical-align: top;\n",
              "    }\n",
              "\n",
              "    .dataframe thead th {\n",
              "        text-align: right;\n",
              "    }\n",
              "</style>\n",
              "<table border=\"1\" class=\"dataframe\">\n",
              "  <thead>\n",
              "    <tr style=\"text-align: right;\">\n",
              "      <th></th>\n",
              "      <th>SUM(revenue)</th>\n",
              "      <th>SUM(smoker)</th>\n",
              "    </tr>\n",
              "  </thead>\n",
              "  <tbody>\n",
              "    <tr>\n",
              "      <th>0</th>\n",
              "      <td>5776</td>\n",
              "      <td>99</td>\n",
              "    </tr>\n",
              "  </tbody>\n",
              "</table>\n",
              "</div>"
            ],
            "text/plain": [
              "   SUM(revenue)  SUM(smoker)\n",
              "0          5776           99"
            ]
          },
          "execution_count": 14,
          "metadata": {},
          "output_type": "execute_result"
        }
      ],
      "source": [
        "# Beispiel\n",
        "ps.sqldf(\"\"\"SELECT SUM(revenue), SUM(smoker) FROM performance_data\"\"\") "
      ]
    },
    {
      "cell_type": "markdown",
      "metadata": {
        "id": "Imf5lu9cE3qW"
      },
      "source": [
        "Oder die Summen über ein Subset (Selektion) bilden.\n",
        "\n",
        "Hier werden z.B. nur die Erlöse der Raucher summiert:\n",
        "\n",
        "```\n",
        "ps.sqldf(\"\"\"SELECT SUM(revenue) FROM performance_data WHERE smoker=1 \"\"\")\n",
        "```\n"
      ]
    },
    {
      "cell_type": "code",
      "execution_count": 15,
      "metadata": {
        "colab": {
          "base_uri": "https://localhost:8080/",
          "height": 81
        },
        "id": "5uUSd0BkExgQ",
        "outputId": "bd5ff4fa-6eca-4f81-f872-dcc2509a3b03"
      },
      "outputs": [
        {
          "data": {
            "text/html": [
              "<div>\n",
              "<style scoped>\n",
              "    .dataframe tbody tr th:only-of-type {\n",
              "        vertical-align: middle;\n",
              "    }\n",
              "\n",
              "    .dataframe tbody tr th {\n",
              "        vertical-align: top;\n",
              "    }\n",
              "\n",
              "    .dataframe thead th {\n",
              "        text-align: right;\n",
              "    }\n",
              "</style>\n",
              "<table border=\"1\" class=\"dataframe\">\n",
              "  <thead>\n",
              "    <tr style=\"text-align: right;\">\n",
              "      <th></th>\n",
              "      <th>SUM(revenue)</th>\n",
              "    </tr>\n",
              "  </thead>\n",
              "  <tbody>\n",
              "    <tr>\n",
              "      <th>0</th>\n",
              "      <td>2833</td>\n",
              "    </tr>\n",
              "  </tbody>\n",
              "</table>\n",
              "</div>"
            ],
            "text/plain": [
              "   SUM(revenue)\n",
              "0          2833"
            ]
          },
          "execution_count": 15,
          "metadata": {},
          "output_type": "execute_result"
        }
      ],
      "source": [
        "# Beispiel\n",
        "ps.sqldf(\"\"\"SELECT SUM(revenue) FROM performance_data WHERE smoker=1 \"\"\") "
      ]
    },
    {
      "cell_type": "markdown",
      "metadata": {
        "id": "JMql360yF787"
      },
      "source": [
        "Es gibt auch weitere Befehle zur Aggregation, wie z.B. ```COUNT```\n",
        "Hier werden alle Tupel (Zeilen in der Tabelle) gezählt:\n",
        "\n",
        "```\n",
        "ps.sqldf(\"\"\"SELECT COUNT(*) FROM performance_data\"\"\") \n",
        "```\n"
      ]
    },
    {
      "cell_type": "code",
      "execution_count": 16,
      "metadata": {
        "colab": {
          "base_uri": "https://localhost:8080/",
          "height": 81
        },
        "id": "eSKBcfAyFmuk",
        "outputId": "ecf28c96-c386-488e-cbc0-0879b02c2245"
      },
      "outputs": [
        {
          "data": {
            "text/html": [
              "<div>\n",
              "<style scoped>\n",
              "    .dataframe tbody tr th:only-of-type {\n",
              "        vertical-align: middle;\n",
              "    }\n",
              "\n",
              "    .dataframe tbody tr th {\n",
              "        vertical-align: top;\n",
              "    }\n",
              "\n",
              "    .dataframe thead th {\n",
              "        text-align: right;\n",
              "    }\n",
              "</style>\n",
              "<table border=\"1\" class=\"dataframe\">\n",
              "  <thead>\n",
              "    <tr style=\"text-align: right;\">\n",
              "      <th></th>\n",
              "      <th>COUNT(*)</th>\n",
              "    </tr>\n",
              "  </thead>\n",
              "  <tbody>\n",
              "    <tr>\n",
              "      <th>0</th>\n",
              "      <td>200</td>\n",
              "    </tr>\n",
              "  </tbody>\n",
              "</table>\n",
              "</div>"
            ],
            "text/plain": [
              "   COUNT(*)\n",
              "0       200"
            ]
          },
          "execution_count": 16,
          "metadata": {},
          "output_type": "execute_result"
        }
      ],
      "source": [
        "# Beispiel\n",
        "ps.sqldf(\"\"\"SELECT COUNT(*) FROM performance_data\"\"\") "
      ]
    },
    {
      "cell_type": "markdown",
      "metadata": {
        "id": "sfblXWfUkSNm"
      },
      "source": [
        "Neben der Summation gibt es noch weitere Operationen, um das Minimum (```MIN```), Maximum (```MAX```) oder den Durchschnitt (```AVG```) zu finden.\n",
        "\n",
        "So lässt sich zum Beispiel die durchschnittliche Leistung der getesteten bestimmen:\n",
        "```ps.sqldf(\"\"\" SELECT AVG(VO2_max) FROM performance_data \"\"\") ```"
      ]
    },
    {
      "cell_type": "code",
      "execution_count": 17,
      "metadata": {
        "colab": {
          "base_uri": "https://localhost:8080/",
          "height": 81
        },
        "id": "WwtGlnYej-J5",
        "outputId": "b190b603-5279-4dba-f348-8e921a73d71f"
      },
      "outputs": [
        {
          "data": {
            "text/html": [
              "<div>\n",
              "<style scoped>\n",
              "    .dataframe tbody tr th:only-of-type {\n",
              "        vertical-align: middle;\n",
              "    }\n",
              "\n",
              "    .dataframe tbody tr th {\n",
              "        vertical-align: top;\n",
              "    }\n",
              "\n",
              "    .dataframe thead th {\n",
              "        text-align: right;\n",
              "    }\n",
              "</style>\n",
              "<table border=\"1\" class=\"dataframe\">\n",
              "  <thead>\n",
              "    <tr style=\"text-align: right;\">\n",
              "      <th></th>\n",
              "      <th>AVG(VO2_max)</th>\n",
              "    </tr>\n",
              "  </thead>\n",
              "  <tbody>\n",
              "    <tr>\n",
              "      <th>0</th>\n",
              "      <td>48.170455</td>\n",
              "    </tr>\n",
              "  </tbody>\n",
              "</table>\n",
              "</div>"
            ],
            "text/plain": [
              "   AVG(VO2_max)\n",
              "0     48.170455"
            ]
          },
          "execution_count": 17,
          "metadata": {},
          "output_type": "execute_result"
        }
      ],
      "source": [
        "# Lösung\n",
        "ps.sqldf(\"\"\" SELECT AVG(VO2_max) FROM performance_data WHERE weight < 80 \"\"\") "
      ]
    },
    {
      "cell_type": "markdown",
      "metadata": {
        "id": "yPqG5K9bkSNp"
      },
      "source": [
        "### Gruppieren\n",
        "\n",
        "Operationen, wie ```AVG``` lassen sich mit den Schlüsselwort ```GROUP BY``` automatisiert für mehrere Gruppen durchführen.\n",
        "\n",
        "Z.B. lässt sich der VO2_max getrennt nach Geschlecht auswerten.\n",
        "\n",
        "``` \"\"\" SELECT AVG(VO2_max), gender FROM performance_data GROUP BY gender \"\"\" ```"
      ]
    },
    {
      "cell_type": "code",
      "execution_count": 18,
      "metadata": {
        "colab": {
          "base_uri": "https://localhost:8080/",
          "height": 112
        },
        "id": "VWxkT4KOHHdz",
        "outputId": "aa2ea101-d936-4873-b0f0-92a0a3d6bdd9"
      },
      "outputs": [
        {
          "data": {
            "text/html": [
              "<div>\n",
              "<style scoped>\n",
              "    .dataframe tbody tr th:only-of-type {\n",
              "        vertical-align: middle;\n",
              "    }\n",
              "\n",
              "    .dataframe tbody tr th {\n",
              "        vertical-align: top;\n",
              "    }\n",
              "\n",
              "    .dataframe thead th {\n",
              "        text-align: right;\n",
              "    }\n",
              "</style>\n",
              "<table border=\"1\" class=\"dataframe\">\n",
              "  <thead>\n",
              "    <tr style=\"text-align: right;\">\n",
              "      <th></th>\n",
              "      <th>gender</th>\n",
              "      <th>SUM(revenue)</th>\n",
              "    </tr>\n",
              "  </thead>\n",
              "  <tbody>\n",
              "    <tr>\n",
              "      <th>0</th>\n",
              "      <td>Female</td>\n",
              "      <td>2752</td>\n",
              "    </tr>\n",
              "    <tr>\n",
              "      <th>1</th>\n",
              "      <td>Male</td>\n",
              "      <td>3024</td>\n",
              "    </tr>\n",
              "  </tbody>\n",
              "</table>\n",
              "</div>"
            ],
            "text/plain": [
              "   gender  SUM(revenue)\n",
              "0  Female          2752\n",
              "1    Male          3024"
            ]
          },
          "execution_count": 18,
          "metadata": {},
          "output_type": "execute_result"
        }
      ],
      "source": [
        "# Beispiel\n",
        "ps.sqldf(\"\"\"SELECT gender, SUM(revenue) FROM performance_data GROUP BY gender\"\"\") "
      ]
    },
    {
      "cell_type": "code",
      "execution_count": 19,
      "metadata": {
        "colab": {
          "base_uri": "https://localhost:8080/",
          "height": 174
        },
        "id": "zDAHb9Z5kSNq",
        "outputId": "7d4447bc-8bf7-446e-d0c7-6e4004791c42"
      },
      "outputs": [
        {
          "data": {
            "text/html": [
              "<div>\n",
              "<style scoped>\n",
              "    .dataframe tbody tr th:only-of-type {\n",
              "        vertical-align: middle;\n",
              "    }\n",
              "\n",
              "    .dataframe tbody tr th {\n",
              "        vertical-align: top;\n",
              "    }\n",
              "\n",
              "    .dataframe thead th {\n",
              "        text-align: right;\n",
              "    }\n",
              "</style>\n",
              "<table border=\"1\" class=\"dataframe\">\n",
              "  <thead>\n",
              "    <tr style=\"text-align: right;\">\n",
              "      <th></th>\n",
              "      <th>diagnostician_id</th>\n",
              "      <th>SUM(revenue)</th>\n",
              "    </tr>\n",
              "  </thead>\n",
              "  <tbody>\n",
              "    <tr>\n",
              "      <th>0</th>\n",
              "      <td>0</td>\n",
              "      <td>1012</td>\n",
              "    </tr>\n",
              "    <tr>\n",
              "      <th>1</th>\n",
              "      <td>1</td>\n",
              "      <td>1494</td>\n",
              "    </tr>\n",
              "    <tr>\n",
              "      <th>2</th>\n",
              "      <td>2</td>\n",
              "      <td>1562</td>\n",
              "    </tr>\n",
              "    <tr>\n",
              "      <th>3</th>\n",
              "      <td>3</td>\n",
              "      <td>1708</td>\n",
              "    </tr>\n",
              "  </tbody>\n",
              "</table>\n",
              "</div>"
            ],
            "text/plain": [
              "   diagnostician_id  SUM(revenue)\n",
              "0                 0          1012\n",
              "1                 1          1494\n",
              "2                 2          1562\n",
              "3                 3          1708"
            ]
          },
          "execution_count": 19,
          "metadata": {},
          "output_type": "execute_result"
        }
      ],
      "source": [
        "# Lösung\n",
        "ps.sqldf(\"\"\"SELECT diagnostician_id, SUM(revenue) FROM performance_data GROUP BY diagnostician_id\"\"\") "
      ]
    },
    {
      "cell_type": "markdown",
      "metadata": {
        "id": "124HhVkWkSNq"
      },
      "source": [
        "### Speichern der Ergebnisse\n",
        "\n",
        "Die Ergebnisse lassen sich über eine Zuweisung in einem neuen DataFrame speichern."
      ]
    },
    {
      "cell_type": "code",
      "execution_count": 20,
      "metadata": {
        "colab": {
          "base_uri": "https://localhost:8080/"
        },
        "id": "iwuXIfMzkJN7",
        "outputId": "2f7de467-52cc-4e01-c72a-95debf56fd80"
      },
      "outputs": [
        {
          "name": "stdout",
          "output_type": "stream",
          "text": [
            "   COUNT(age)\n",
            "0         101\n",
            "1          99\n"
          ]
        }
      ],
      "source": [
        "# Beispiel\n",
        "new_table = ps.sqldf(\"\"\" SELECT COUNT(age) FROM performance_data GROUP BY smoker \"\"\") \n",
        "print(new_table)"
      ]
    },
    {
      "cell_type": "markdown",
      "metadata": {
        "id": "feVvb8yTkSNr"
      },
      "source": [
        "### Logische Verknüpfungen\n",
        "\n",
        "Durch die logischen Operatoren ```OR```und ```AND``` lassen sich auch komplexere Abfragen gestalten. Zum Beispiel die Suche nach besonders untersetzten Personen:\n",
        "\n",
        "```ps.sqldf(\"\"\" SELECT AVG(VO2_max), height, weight FROM performance_data WHERE height < 170 AND weight > 90 \"\"\")```"
      ]
    },
    {
      "cell_type": "code",
      "execution_count": 21,
      "metadata": {
        "colab": {
          "base_uri": "https://localhost:8080/",
          "height": 81
        },
        "id": "GJxVLWW_kSNr",
        "outputId": "ce9502b6-39dc-48db-9d71-7758624a5752"
      },
      "outputs": [
        {
          "data": {
            "text/html": [
              "<div>\n",
              "<style scoped>\n",
              "    .dataframe tbody tr th:only-of-type {\n",
              "        vertical-align: middle;\n",
              "    }\n",
              "\n",
              "    .dataframe tbody tr th {\n",
              "        vertical-align: top;\n",
              "    }\n",
              "\n",
              "    .dataframe thead th {\n",
              "        text-align: right;\n",
              "    }\n",
              "</style>\n",
              "<table border=\"1\" class=\"dataframe\">\n",
              "  <thead>\n",
              "    <tr style=\"text-align: right;\">\n",
              "      <th></th>\n",
              "      <th>AVG(VO2_max)</th>\n",
              "      <th>height</th>\n",
              "      <th>weight</th>\n",
              "    </tr>\n",
              "  </thead>\n",
              "  <tbody>\n",
              "    <tr>\n",
              "      <th>0</th>\n",
              "      <td>48.309524</td>\n",
              "      <td>166</td>\n",
              "      <td>101</td>\n",
              "    </tr>\n",
              "  </tbody>\n",
              "</table>\n",
              "</div>"
            ],
            "text/plain": [
              "   AVG(VO2_max)  height  weight\n",
              "0     48.309524     166     101"
            ]
          },
          "execution_count": 21,
          "metadata": {},
          "output_type": "execute_result"
        }
      ],
      "source": [
        "# Beispiel\n",
        "ps.sqldf(\"\"\" SELECT AVG(VO2_max), height, weight FROM performance_data WHERE height < 170 AND weight > 90 \"\"\") \n"
      ]
    },
    {
      "cell_type": "markdown",
      "metadata": {
        "id": "RPfDDjA36XJn"
      },
      "source": [
        "## Übung"
      ]
    },
    {
      "cell_type": "markdown",
      "metadata": {
        "id": "Nj8zNmap669C"
      },
      "source": [
        "1. Wer sind die größten drei weiblichen Teilnehmerinnen?"
      ]
    },
    {
      "cell_type": "code",
      "execution_count": 39,
      "metadata": {
        "colab": {
          "base_uri": "https://localhost:8080/",
          "height": 143
        },
        "id": "u4ymSIfF8cgx",
        "outputId": "a3e5b347-edd9-4283-a0a7-e1d7423d0e76"
      },
      "outputs": [
        {
          "data": {
            "text/html": [
              "<div>\n",
              "<style scoped>\n",
              "    .dataframe tbody tr th:only-of-type {\n",
              "        vertical-align: middle;\n",
              "    }\n",
              "\n",
              "    .dataframe tbody tr th {\n",
              "        vertical-align: top;\n",
              "    }\n",
              "\n",
              "    .dataframe thead th {\n",
              "        text-align: right;\n",
              "    }\n",
              "</style>\n",
              "<table border=\"1\" class=\"dataframe\">\n",
              "  <thead>\n",
              "    <tr style=\"text-align: right;\">\n",
              "      <th></th>\n",
              "      <th>gender</th>\n",
              "      <th>height</th>\n",
              "    </tr>\n",
              "  </thead>\n",
              "  <tbody>\n",
              "    <tr>\n",
              "      <th>0</th>\n",
              "      <td>Female</td>\n",
              "      <td>189</td>\n",
              "    </tr>\n",
              "    <tr>\n",
              "      <th>1</th>\n",
              "      <td>Female</td>\n",
              "      <td>189</td>\n",
              "    </tr>\n",
              "    <tr>\n",
              "      <th>2</th>\n",
              "      <td>Female</td>\n",
              "      <td>187</td>\n",
              "    </tr>\n",
              "  </tbody>\n",
              "</table>\n",
              "</div>"
            ],
            "text/plain": [
              "   gender  height\n",
              "0  Female     189\n",
              "1  Female     189\n",
              "2  Female     187"
            ]
          },
          "execution_count": 39,
          "metadata": {},
          "output_type": "execute_result"
        }
      ],
      "source": [
        "ps.sqldf(\"\"\" SELECT gender, height FROM performance_data where gender=\"Female\" order by height desc limit 3 \"\"\")"
      ]
    },
    {
      "cell_type": "markdown",
      "metadata": {
        "id": "HvDLd7Ld68GH"
      },
      "source": [
        "2. Was sind die höchsten vier Erlöse, die von Diagnostiker:in 2 erzielt wurden?"
      ]
    },
    {
      "cell_type": "code",
      "execution_count": 46,
      "metadata": {
        "colab": {
          "base_uri": "https://localhost:8080/",
          "height": 174
        },
        "id": "uDDrDNGc8eGY",
        "outputId": "dbe86a3a-0bd7-4db4-a909-9b5d4331f417"
      },
      "outputs": [
        {
          "data": {
            "text/html": [
              "<div>\n",
              "<style scoped>\n",
              "    .dataframe tbody tr th:only-of-type {\n",
              "        vertical-align: middle;\n",
              "    }\n",
              "\n",
              "    .dataframe tbody tr th {\n",
              "        vertical-align: top;\n",
              "    }\n",
              "\n",
              "    .dataframe thead th {\n",
              "        text-align: right;\n",
              "    }\n",
              "</style>\n",
              "<table border=\"1\" class=\"dataframe\">\n",
              "  <thead>\n",
              "    <tr style=\"text-align: right;\">\n",
              "      <th></th>\n",
              "      <th>revenue</th>\n",
              "      <th>diagnostician_id</th>\n",
              "    </tr>\n",
              "  </thead>\n",
              "  <tbody>\n",
              "    <tr>\n",
              "      <th>0</th>\n",
              "      <td>49</td>\n",
              "      <td>2</td>\n",
              "    </tr>\n",
              "    <tr>\n",
              "      <th>1</th>\n",
              "      <td>48</td>\n",
              "      <td>2</td>\n",
              "    </tr>\n",
              "    <tr>\n",
              "      <th>2</th>\n",
              "      <td>47</td>\n",
              "      <td>2</td>\n",
              "    </tr>\n",
              "    <tr>\n",
              "      <th>3</th>\n",
              "      <td>47</td>\n",
              "      <td>2</td>\n",
              "    </tr>\n",
              "  </tbody>\n",
              "</table>\n",
              "</div>"
            ],
            "text/plain": [
              "   revenue  diagnostician_id\n",
              "0       49                 2\n",
              "1       48                 2\n",
              "2       47                 2\n",
              "3       47                 2"
            ]
          },
          "execution_count": 46,
          "metadata": {},
          "output_type": "execute_result"
        }
      ],
      "source": [
        "\n",
        "ps.sqldf(\"\"\" SELECT revenue , diagnostician_id FROM performance_data where diagnostician_id=2 order by revenue desc limit 4\"\"\")"
      ]
    },
    {
      "cell_type": "markdown",
      "metadata": {
        "id": "unyE0T_c68Ak"
      },
      "source": [
        "3. Wie leistungsfähig sind Personen mit einer Größe über 170 cm verglichen mit kleineren Personen? (2 Befehle)"
      ]
    },
    {
      "cell_type": "code",
      "execution_count": 52,
      "metadata": {
        "colab": {
          "base_uri": "https://localhost:8080/",
          "height": 81
        },
        "id": "ewCmy6ps8d6Q",
        "outputId": "9ba12775-77f3-45fb-b3f8-2d2ccc800559"
      },
      "outputs": [
        {
          "data": {
            "text/html": [
              "<div>\n",
              "<style scoped>\n",
              "    .dataframe tbody tr th:only-of-type {\n",
              "        vertical-align: middle;\n",
              "    }\n",
              "\n",
              "    .dataframe tbody tr th {\n",
              "        vertical-align: top;\n",
              "    }\n",
              "\n",
              "    .dataframe thead th {\n",
              "        text-align: right;\n",
              "    }\n",
              "</style>\n",
              "<table border=\"1\" class=\"dataframe\">\n",
              "  <thead>\n",
              "    <tr style=\"text-align: right;\">\n",
              "      <th></th>\n",
              "      <th>AVG(VO2_max)</th>\n",
              "      <th>AVG(height)</th>\n",
              "    </tr>\n",
              "  </thead>\n",
              "  <tbody>\n",
              "    <tr>\n",
              "      <th>0</th>\n",
              "      <td>48.953488</td>\n",
              "      <td>179.186047</td>\n",
              "    </tr>\n",
              "  </tbody>\n",
              "</table>\n",
              "</div>"
            ],
            "text/plain": [
              "   AVG(VO2_max)  AVG(height)\n",
              "0     48.953488   179.186047"
            ]
          },
          "execution_count": 52,
          "metadata": {},
          "output_type": "execute_result"
        }
      ],
      "source": [
        "ps.sqldf(\"\"\" SELECT AVG(VO2_max), AVG(height) FROM performance_data WHERE height > 170 \"\"\")\n"
      ]
    },
    {
      "cell_type": "code",
      "execution_count": 53,
      "metadata": {
        "colab": {
          "base_uri": "https://localhost:8080/",
          "height": 81
        },
        "id": "TiV_ATrlH8RW",
        "outputId": "ba40bce6-253c-4291-8b95-7134c0e8f03b"
      },
      "outputs": [
        {
          "data": {
            "text/html": [
              "<div>\n",
              "<style scoped>\n",
              "    .dataframe tbody tr th:only-of-type {\n",
              "        vertical-align: middle;\n",
              "    }\n",
              "\n",
              "    .dataframe tbody tr th {\n",
              "        vertical-align: top;\n",
              "    }\n",
              "\n",
              "    .dataframe thead th {\n",
              "        text-align: right;\n",
              "    }\n",
              "</style>\n",
              "<table border=\"1\" class=\"dataframe\">\n",
              "  <thead>\n",
              "    <tr style=\"text-align: right;\">\n",
              "      <th></th>\n",
              "      <th>AVG(VO2_max)</th>\n",
              "      <th>AVG(height)</th>\n",
              "    </tr>\n",
              "  </thead>\n",
              "  <tbody>\n",
              "    <tr>\n",
              "      <th>0</th>\n",
              "      <td>48.168224</td>\n",
              "      <td>159.88785</td>\n",
              "    </tr>\n",
              "  </tbody>\n",
              "</table>\n",
              "</div>"
            ],
            "text/plain": [
              "   AVG(VO2_max)  AVG(height)\n",
              "0     48.168224    159.88785"
            ]
          },
          "execution_count": 53,
          "metadata": {},
          "output_type": "execute_result"
        }
      ],
      "source": [
        "ps.sqldf(\"\"\" SELECT AVG(VO2_max), AVG(height) FROM performance_data WHERE height < 170 \"\"\")"
      ]
    },
    {
      "cell_type": "markdown",
      "metadata": {
        "id": "qGa3Im-q677J"
      },
      "source": [
        "4. Was ist die Durchschnittsleistung von Männern unter 80kg?"
      ]
    },
    {
      "cell_type": "code",
      "execution_count": 59,
      "metadata": {
        "colab": {
          "base_uri": "https://localhost:8080/",
          "height": 81
        },
        "id": "ryjWDa0z8e5o",
        "outputId": "cfd5c533-c301-447a-adc8-435b86bec00b"
      },
      "outputs": [
        {
          "data": {
            "text/html": [
              "<div>\n",
              "<style scoped>\n",
              "    .dataframe tbody tr th:only-of-type {\n",
              "        vertical-align: middle;\n",
              "    }\n",
              "\n",
              "    .dataframe tbody tr th {\n",
              "        vertical-align: top;\n",
              "    }\n",
              "\n",
              "    .dataframe thead th {\n",
              "        text-align: right;\n",
              "    }\n",
              "</style>\n",
              "<table border=\"1\" class=\"dataframe\">\n",
              "  <thead>\n",
              "    <tr style=\"text-align: right;\">\n",
              "      <th></th>\n",
              "      <th>AVG(VO2_max)</th>\n",
              "      <th>AVG(weight)</th>\n",
              "    </tr>\n",
              "  </thead>\n",
              "  <tbody>\n",
              "    <tr>\n",
              "      <th>0</th>\n",
              "      <td>49.978723</td>\n",
              "      <td>69.021277</td>\n",
              "    </tr>\n",
              "  </tbody>\n",
              "</table>\n",
              "</div>"
            ],
            "text/plain": [
              "   AVG(VO2_max)  AVG(weight)\n",
              "0     49.978723    69.021277"
            ]
          },
          "execution_count": 59,
          "metadata": {},
          "output_type": "execute_result"
        }
      ],
      "source": [
        "ps.sqldf(\"\"\" SELECT AVG(VO2_max), AVG(weight) FROM performance_data WHERE gender=\"Male\" AND weight < 80 \"\"\")"
      ]
    },
    {
      "cell_type": "markdown",
      "metadata": {
        "id": "vj7x9mUZ671U"
      },
      "source": [
        "5. Wie viel Umsatz wird mir Rauchern und Nicht-Rauchern erzielt (ein Befehl)?"
      ]
    },
    {
      "cell_type": "code",
      "execution_count": 65,
      "metadata": {
        "colab": {
          "base_uri": "https://localhost:8080/",
          "height": 112
        },
        "id": "9aah4IvX8fdg",
        "outputId": "5b84f43b-071c-480e-b0e3-0e645eb61fc8"
      },
      "outputs": [
        {
          "data": {
            "text/html": [
              "<div>\n",
              "<style scoped>\n",
              "    .dataframe tbody tr th:only-of-type {\n",
              "        vertical-align: middle;\n",
              "    }\n",
              "\n",
              "    .dataframe tbody tr th {\n",
              "        vertical-align: top;\n",
              "    }\n",
              "\n",
              "    .dataframe thead th {\n",
              "        text-align: right;\n",
              "    }\n",
              "</style>\n",
              "<table border=\"1\" class=\"dataframe\">\n",
              "  <thead>\n",
              "    <tr style=\"text-align: right;\">\n",
              "      <th></th>\n",
              "      <th>SUM(revenue)</th>\n",
              "      <th>smoker</th>\n",
              "    </tr>\n",
              "  </thead>\n",
              "  <tbody>\n",
              "    <tr>\n",
              "      <th>0</th>\n",
              "      <td>2943</td>\n",
              "      <td>0</td>\n",
              "    </tr>\n",
              "    <tr>\n",
              "      <th>1</th>\n",
              "      <td>2833</td>\n",
              "      <td>1</td>\n",
              "    </tr>\n",
              "  </tbody>\n",
              "</table>\n",
              "</div>"
            ],
            "text/plain": [
              "   SUM(revenue)  smoker\n",
              "0          2943       0\n",
              "1          2833       1"
            ]
          },
          "execution_count": 65,
          "metadata": {},
          "output_type": "execute_result"
        }
      ],
      "source": [
        "ps.sqldf(\"\"\"SELECT SUM(revenue), smoker FROM performance_data GROUP BY smoker \"\"\")"
      ]
    },
    {
      "cell_type": "markdown",
      "metadata": {
        "id": "zY8zzbRY67tP"
      },
      "source": [
        "6. Wie ist die durchschnittliche Leistung mit einem über-und unterdurchschnittlichen Gewicht? Wie sieht der Einfluss bei der größe aus?"
      ]
    },
    {
      "cell_type": "code",
      "execution_count": 93,
      "metadata": {
        "colab": {
          "base_uri": "https://localhost:8080/",
          "height": 81
        },
        "id": "4TMXoG60IcZX",
        "outputId": "5d39690c-82ac-4647-e15f-9d74aa3888e1"
      },
      "outputs": [
        {
          "data": {
            "text/html": [
              "<div>\n",
              "<style scoped>\n",
              "    .dataframe tbody tr th:only-of-type {\n",
              "        vertical-align: middle;\n",
              "    }\n",
              "\n",
              "    .dataframe tbody tr th {\n",
              "        vertical-align: top;\n",
              "    }\n",
              "\n",
              "    .dataframe thead th {\n",
              "        text-align: right;\n",
              "    }\n",
              "</style>\n",
              "<table border=\"1\" class=\"dataframe\">\n",
              "  <thead>\n",
              "    <tr style=\"text-align: right;\">\n",
              "      <th></th>\n",
              "      <th>AVG(VO2_max)</th>\n",
              "    </tr>\n",
              "  </thead>\n",
              "  <tbody>\n",
              "    <tr>\n",
              "      <th>0</th>\n",
              "      <td>49.865979</td>\n",
              "    </tr>\n",
              "  </tbody>\n",
              "</table>\n",
              "</div>"
            ],
            "text/plain": [
              "   AVG(VO2_max)\n",
              "0     49.865979"
            ]
          },
          "execution_count": 93,
          "metadata": {},
          "output_type": "execute_result"
        }
      ],
      "source": [
        "#überdurchschnittliches Gewicht\n",
        "ps.sqldf(\"\"\" SELECT AVG(VO2_max) FROM performance_data where weight > 83.445 \"\"\")\n"
      ]
    },
    {
      "cell_type": "code",
      "execution_count": 94,
      "metadata": {
        "colab": {
          "base_uri": "https://localhost:8080/",
          "height": 81
        },
        "id": "GmV0JveG8gHp",
        "outputId": "0ba10b0a-f985-43f1-c68a-9c62dd3310b7"
      },
      "outputs": [
        {
          "data": {
            "text/html": [
              "<div>\n",
              "<style scoped>\n",
              "    .dataframe tbody tr th:only-of-type {\n",
              "        vertical-align: middle;\n",
              "    }\n",
              "\n",
              "    .dataframe tbody tr th {\n",
              "        vertical-align: top;\n",
              "    }\n",
              "\n",
              "    .dataframe thead th {\n",
              "        text-align: right;\n",
              "    }\n",
              "</style>\n",
              "<table border=\"1\" class=\"dataframe\">\n",
              "  <thead>\n",
              "    <tr style=\"text-align: right;\">\n",
              "      <th></th>\n",
              "      <th>AVG(VO2_max)</th>\n",
              "    </tr>\n",
              "  </thead>\n",
              "  <tbody>\n",
              "    <tr>\n",
              "      <th>0</th>\n",
              "      <td>48.087379</td>\n",
              "    </tr>\n",
              "  </tbody>\n",
              "</table>\n",
              "</div>"
            ],
            "text/plain": [
              "   AVG(VO2_max)\n",
              "0     48.087379"
            ]
          },
          "execution_count": 94,
          "metadata": {},
          "output_type": "execute_result"
        }
      ],
      "source": [
        "#unterdurchschnittliches Gewicht\n",
        "ps.sqldf(\"\"\" SELECT AVG(VO2_max) FROM performance_data where weight < 83.445 \"\"\")"
      ]
    },
    {
      "cell_type": "code",
      "execution_count": 95,
      "metadata": {
        "colab": {
          "base_uri": "https://localhost:8080/",
          "height": 81
        },
        "id": "A2g1j6_OIN2m",
        "outputId": "968db56d-fb47-4e8d-c88e-b27b245ae134"
      },
      "outputs": [
        {
          "data": {
            "text/html": [
              "<div>\n",
              "<style scoped>\n",
              "    .dataframe tbody tr th:only-of-type {\n",
              "        vertical-align: middle;\n",
              "    }\n",
              "\n",
              "    .dataframe tbody tr th {\n",
              "        vertical-align: top;\n",
              "    }\n",
              "\n",
              "    .dataframe thead th {\n",
              "        text-align: right;\n",
              "    }\n",
              "</style>\n",
              "<table border=\"1\" class=\"dataframe\">\n",
              "  <thead>\n",
              "    <tr style=\"text-align: right;\">\n",
              "      <th></th>\n",
              "      <th>AVG(VO2_max)</th>\n",
              "    </tr>\n",
              "  </thead>\n",
              "  <tbody>\n",
              "    <tr>\n",
              "      <th>0</th>\n",
              "      <td>49.747368</td>\n",
              "    </tr>\n",
              "  </tbody>\n",
              "</table>\n",
              "</div>"
            ],
            "text/plain": [
              "   AVG(VO2_max)\n",
              "0     49.747368"
            ]
          },
          "execution_count": 95,
          "metadata": {},
          "output_type": "execute_result"
        }
      ],
      "source": [
        "#überdurchschnittliche Größe\n",
        "ps.sqldf(\"\"\" SELECT AVG(VO2_max) FROM performance_data where height > 168.54 \"\"\")"
      ]
    },
    {
      "cell_type": "code",
      "execution_count": 96,
      "metadata": {
        "id": "Q_b_4zU5Ii32"
      },
      "outputs": [
        {
          "data": {
            "text/html": [
              "<div>\n",
              "<style scoped>\n",
              "    .dataframe tbody tr th:only-of-type {\n",
              "        vertical-align: middle;\n",
              "    }\n",
              "\n",
              "    .dataframe tbody tr th {\n",
              "        vertical-align: top;\n",
              "    }\n",
              "\n",
              "    .dataframe thead th {\n",
              "        text-align: right;\n",
              "    }\n",
              "</style>\n",
              "<table border=\"1\" class=\"dataframe\">\n",
              "  <thead>\n",
              "    <tr style=\"text-align: right;\">\n",
              "      <th></th>\n",
              "      <th>AVG(VO2_max)</th>\n",
              "    </tr>\n",
              "  </thead>\n",
              "  <tbody>\n",
              "    <tr>\n",
              "      <th>0</th>\n",
              "      <td>48.228571</td>\n",
              "    </tr>\n",
              "  </tbody>\n",
              "</table>\n",
              "</div>"
            ],
            "text/plain": [
              "   AVG(VO2_max)\n",
              "0     48.228571"
            ]
          },
          "execution_count": 96,
          "metadata": {},
          "output_type": "execute_result"
        }
      ],
      "source": [
        "#unterdurchschnittliche Größe\n",
        "ps.sqldf(\"\"\" SELECT AVG(VO2_max) FROM performance_data where height < 168.54 \"\"\")"
      ]
    }
  ],
  "metadata": {
    "colab": {
      "collapsed_sections": [],
      "name": "SoSe-2022-MSE-SQL_mit_Lösung",
      "provenance": []
    },
    "kernelspec": {
      "display_name": "Python 3",
      "name": "python3"
    },
    "language_info": {
      "codemirror_mode": {
        "name": "ipython",
        "version": 3
      },
      "file_extension": ".py",
      "mimetype": "text/x-python",
      "name": "python",
      "nbconvert_exporter": "python",
      "pygments_lexer": "ipython3",
      "version": "3.10.4"
    }
  },
  "nbformat": 4,
  "nbformat_minor": 0
}
